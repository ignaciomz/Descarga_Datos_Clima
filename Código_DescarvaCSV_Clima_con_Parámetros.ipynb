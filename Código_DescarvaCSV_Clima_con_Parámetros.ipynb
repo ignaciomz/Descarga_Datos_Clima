{
  "nbformat": 4,
  "nbformat_minor": 0,
  "metadata": {
    "colab": {
      "provenance": [],
      "authorship_tag": "ABX9TyP46oXV9FZLe1bcfeWNeZIC",
      "include_colab_link": true
    },
    "kernelspec": {
      "name": "python3",
      "display_name": "Python 3"
    },
    "language_info": {
      "name": "python"
    }
  },
  "cells": [
    {
      "cell_type": "markdown",
      "metadata": {
        "id": "view-in-github",
        "colab_type": "text"
      },
      "source": [
        "<a href=\"https://colab.research.google.com/github/ignaciomz/Descarga_Datos_Clima/blob/main/C%C3%B3digo_DescarvaCSV_Clima_con_Par%C3%A1metros.ipynb\" target=\"_parent\"><img src=\"https://colab.research.google.com/assets/colab-badge.svg\" alt=\"Open In Colab\"/></a>"
      ]
    },
    {
      "cell_type": "code",
      "source": [
        "import requests\n",
        "import pandas as pd\n",
        "\n",
        "# Parámetros y url de uso abierto\n",
        "url = \"https://archive-api.open-meteo.com/v1/archive\"\n",
        "params = {\n",
        "    \"latitude\": -34.7304,  # Latitud de Lomas de Zamora\n",
        "    \"longitude\": -58.5874,  # Longitud de Lomas de Zamora\n",
        "    \"start_date\": \"2025-01-22\",\n",
        "    \"end_date\": \"2025-01-28\",\n",
        "    \"daily\": \"temperature_2m_max,temperature_2m_min,temperature_2m_mean,precipitation_sum,weathercode\",\n",
        "    \"timezone\": \"America/Argentina/Buenos_Aires\"\n",
        "}\n",
        "\n",
        "# Solicitar datos\n",
        "response = requests.get(url, params=params)\n",
        "\n",
        "if response.status_code == 200:\n",
        "    # Convertir a JSON\n",
        "    data = response.json()\n",
        "    df = pd.DataFrame(data[\"daily\"])\n",
        "\n",
        "    # Agregar una columna descriptiva del clima\n",
        "    def describe_weather(code):\n",
        "        if code == 0:\n",
        "            return \"Despejado\"\n",
        "        elif code in [1, 2, 3]:\n",
        "            return \"Parcialmente nublado\"\n",
        "        elif code in [45, 48]:\n",
        "            return \"Neblina\"\n",
        "        elif code in range(51, 58):\n",
        "            return \"Llovizna\"\n",
        "        elif code in range(61, 68):\n",
        "            return \"Lluvia\"\n",
        "        elif code in range(80, 83):\n",
        "            return \"Lluvia de corta duración\"\n",
        "        elif code == 95:\n",
        "            return \"Tormenta\"\n",
        "        else:\n",
        "            return \"Sin datos\"\n",
        "\n",
        "    df[\"clima\"] = df[\"weathercode\"].apply(describe_weather)\n",
        "\n",
        "    # Guardar como CSV con coma como separador decimal\n",
        "    df.to_csv(\"temperatura_lomas_de_zamora_con_clima_nuevo.csv\", index=False, decimal=\",\")\n",
        "    print(\"Datos guardados en 'temperatura_lomas_de_zamora_con_clima.csv'\")\n",
        "else:\n",
        "    print(f\"Error al obtener los datos: {response.status_code}\")\n"
      ],
      "metadata": {
        "id": "ZH54GhqWP0H6",
        "outputId": "311a0ed9-b0c1-4dc4-b0af-6b6c2bfadd8d",
        "colab": {
          "base_uri": "https://localhost:8080/"
        }
      },
      "execution_count": 1,
      "outputs": [
        {
          "output_type": "stream",
          "name": "stdout",
          "text": [
            "Datos guardados en 'temperatura_lomas_de_zamora_con_clima.csv'\n"
          ]
        }
      ]
    }
  ]
}